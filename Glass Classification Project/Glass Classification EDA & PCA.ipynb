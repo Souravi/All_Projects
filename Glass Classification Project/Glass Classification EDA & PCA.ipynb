{
 "cells": [
  {
   "cell_type": "code",
   "execution_count": 131,
   "metadata": {},
   "outputs": [],
   "source": [
    "import pandas as pd\n",
    "import numpy as np\n",
    "import seaborn as sns\n",
    "import matplotlib.pyplot as plt\n",
    "%matplotlib inline\n",
    "import warnings\n",
    "warnings.filterwarnings(\"ignore\")"
   ]
  },
  {
   "cell_type": "code",
   "execution_count": 132,
   "metadata": {},
   "outputs": [],
   "source": [
    "df = pd.read_csv(\"glass.csv\")"
   ]
  },
  {
   "cell_type": "markdown",
   "metadata": {},
   "source": [
    "## Basic Data Exploration \n",
    "\n",
    "**In this step, we will perform the below operations to check what the data set comprises of. We will check the below things:**\n",
    "\n",
    "- **head of the dataset**\n",
    "- **shape of the dataset**\n",
    "- **info of the dataset**\n",
    "- **summary of the dataset**"
   ]
  },
  {
   "cell_type": "code",
   "execution_count": 133,
   "metadata": {},
   "outputs": [
    {
     "data": {
      "text/html": [
       "<div>\n",
       "<style scoped>\n",
       "    .dataframe tbody tr th:only-of-type {\n",
       "        vertical-align: middle;\n",
       "    }\n",
       "\n",
       "    .dataframe tbody tr th {\n",
       "        vertical-align: top;\n",
       "    }\n",
       "\n",
       "    .dataframe thead th {\n",
       "        text-align: right;\n",
       "    }\n",
       "</style>\n",
       "<table border=\"1\" class=\"dataframe\">\n",
       "  <thead>\n",
       "    <tr style=\"text-align: right;\">\n",
       "      <th></th>\n",
       "      <th>RI</th>\n",
       "      <th>Na</th>\n",
       "      <th>Mg</th>\n",
       "      <th>Al</th>\n",
       "      <th>Si</th>\n",
       "      <th>K</th>\n",
       "      <th>Ca</th>\n",
       "      <th>Ba</th>\n",
       "      <th>Fe</th>\n",
       "      <th>Type</th>\n",
       "    </tr>\n",
       "  </thead>\n",
       "  <tbody>\n",
       "    <tr>\n",
       "      <th>0</th>\n",
       "      <td>1.52101</td>\n",
       "      <td>13.64</td>\n",
       "      <td>4.49</td>\n",
       "      <td>1.10</td>\n",
       "      <td>71.78</td>\n",
       "      <td>0.06</td>\n",
       "      <td>8.75</td>\n",
       "      <td>0.0</td>\n",
       "      <td>0.0</td>\n",
       "      <td>1</td>\n",
       "    </tr>\n",
       "    <tr>\n",
       "      <th>1</th>\n",
       "      <td>1.51761</td>\n",
       "      <td>13.89</td>\n",
       "      <td>3.60</td>\n",
       "      <td>1.36</td>\n",
       "      <td>72.73</td>\n",
       "      <td>0.48</td>\n",
       "      <td>7.83</td>\n",
       "      <td>0.0</td>\n",
       "      <td>0.0</td>\n",
       "      <td>1</td>\n",
       "    </tr>\n",
       "    <tr>\n",
       "      <th>2</th>\n",
       "      <td>1.51618</td>\n",
       "      <td>13.53</td>\n",
       "      <td>3.55</td>\n",
       "      <td>1.54</td>\n",
       "      <td>72.99</td>\n",
       "      <td>0.39</td>\n",
       "      <td>7.78</td>\n",
       "      <td>0.0</td>\n",
       "      <td>0.0</td>\n",
       "      <td>1</td>\n",
       "    </tr>\n",
       "    <tr>\n",
       "      <th>3</th>\n",
       "      <td>1.51766</td>\n",
       "      <td>13.21</td>\n",
       "      <td>3.69</td>\n",
       "      <td>1.29</td>\n",
       "      <td>72.61</td>\n",
       "      <td>0.57</td>\n",
       "      <td>8.22</td>\n",
       "      <td>0.0</td>\n",
       "      <td>0.0</td>\n",
       "      <td>1</td>\n",
       "    </tr>\n",
       "    <tr>\n",
       "      <th>4</th>\n",
       "      <td>1.51742</td>\n",
       "      <td>13.27</td>\n",
       "      <td>3.62</td>\n",
       "      <td>1.24</td>\n",
       "      <td>73.08</td>\n",
       "      <td>0.55</td>\n",
       "      <td>8.07</td>\n",
       "      <td>0.0</td>\n",
       "      <td>0.0</td>\n",
       "      <td>1</td>\n",
       "    </tr>\n",
       "  </tbody>\n",
       "</table>\n",
       "</div>"
      ],
      "text/plain": [
       "        RI     Na    Mg    Al     Si     K    Ca   Ba   Fe  Type\n",
       "0  1.52101  13.64  4.49  1.10  71.78  0.06  8.75  0.0  0.0     1\n",
       "1  1.51761  13.89  3.60  1.36  72.73  0.48  7.83  0.0  0.0     1\n",
       "2  1.51618  13.53  3.55  1.54  72.99  0.39  7.78  0.0  0.0     1\n",
       "3  1.51766  13.21  3.69  1.29  72.61  0.57  8.22  0.0  0.0     1\n",
       "4  1.51742  13.27  3.62  1.24  73.08  0.55  8.07  0.0  0.0     1"
      ]
     },
     "execution_count": 133,
     "metadata": {},
     "output_type": "execute_result"
    }
   ],
   "source": [
    "df.head()"
   ]
  },
  {
   "cell_type": "code",
   "execution_count": 134,
   "metadata": {},
   "outputs": [
    {
     "data": {
      "text/plain": [
       "(214, 10)"
      ]
     },
     "execution_count": 134,
     "metadata": {},
     "output_type": "execute_result"
    }
   ],
   "source": [
    "df.shape"
   ]
  },
  {
   "cell_type": "code",
   "execution_count": 135,
   "metadata": {},
   "outputs": [
    {
     "name": "stdout",
     "output_type": "stream",
     "text": [
      "<class 'pandas.core.frame.DataFrame'>\n",
      "RangeIndex: 214 entries, 0 to 213\n",
      "Data columns (total 10 columns):\n",
      " #   Column  Non-Null Count  Dtype  \n",
      "---  ------  --------------  -----  \n",
      " 0   RI      214 non-null    float64\n",
      " 1   Na      214 non-null    float64\n",
      " 2   Mg      214 non-null    float64\n",
      " 3   Al      214 non-null    float64\n",
      " 4   Si      214 non-null    float64\n",
      " 5   K       214 non-null    float64\n",
      " 6   Ca      214 non-null    float64\n",
      " 7   Ba      214 non-null    float64\n",
      " 8   Fe      214 non-null    float64\n",
      " 9   Type    214 non-null    int64  \n",
      "dtypes: float64(9), int64(1)\n",
      "memory usage: 16.8 KB\n"
     ]
    }
   ],
   "source": [
    "df.info()"
   ]
  },
  {
   "cell_type": "markdown",
   "metadata": {},
   "source": [
    "### Observations\n",
    "1. There are 214 rows and 10 columns.\n",
    "2. There are float64(9) and int64(1).\n",
    "3. 1 feature i.e. Type seems to be Categorical.\n",
    "\n",
    "# Change the Dtype to Categorical"
   ]
  },
  {
   "cell_type": "code",
   "execution_count": 136,
   "metadata": {},
   "outputs": [],
   "source": [
    "df['Type'] = pd.Categorical(df['Type'])"
   ]
  },
  {
   "cell_type": "code",
   "execution_count": 137,
   "metadata": {},
   "outputs": [
    {
     "name": "stdout",
     "output_type": "stream",
     "text": [
      "<class 'pandas.core.frame.DataFrame'>\n",
      "RangeIndex: 214 entries, 0 to 213\n",
      "Data columns (total 10 columns):\n",
      " #   Column  Non-Null Count  Dtype   \n",
      "---  ------  --------------  -----   \n",
      " 0   RI      214 non-null    float64 \n",
      " 1   Na      214 non-null    float64 \n",
      " 2   Mg      214 non-null    float64 \n",
      " 3   Al      214 non-null    float64 \n",
      " 4   Si      214 non-null    float64 \n",
      " 5   K       214 non-null    float64 \n",
      " 6   Ca      214 non-null    float64 \n",
      " 7   Ba      214 non-null    float64 \n",
      " 8   Fe      214 non-null    float64 \n",
      " 9   Type    214 non-null    category\n",
      "dtypes: category(1), float64(9)\n",
      "memory usage: 15.6 KB\n"
     ]
    }
   ],
   "source": [
    "df.info()"
   ]
  },
  {
   "cell_type": "code",
   "execution_count": 138,
   "metadata": {},
   "outputs": [
    {
     "data": {
      "text/html": [
       "<div>\n",
       "<style scoped>\n",
       "    .dataframe tbody tr th:only-of-type {\n",
       "        vertical-align: middle;\n",
       "    }\n",
       "\n",
       "    .dataframe tbody tr th {\n",
       "        vertical-align: top;\n",
       "    }\n",
       "\n",
       "    .dataframe thead th {\n",
       "        text-align: right;\n",
       "    }\n",
       "</style>\n",
       "<table border=\"1\" class=\"dataframe\">\n",
       "  <thead>\n",
       "    <tr style=\"text-align: right;\">\n",
       "      <th></th>\n",
       "      <th>count</th>\n",
       "      <th>mean</th>\n",
       "      <th>std</th>\n",
       "      <th>min</th>\n",
       "      <th>25%</th>\n",
       "      <th>50%</th>\n",
       "      <th>75%</th>\n",
       "      <th>max</th>\n",
       "    </tr>\n",
       "  </thead>\n",
       "  <tbody>\n",
       "    <tr>\n",
       "      <th>RI</th>\n",
       "      <td>214.0</td>\n",
       "      <td>1.518365</td>\n",
       "      <td>0.003037</td>\n",
       "      <td>1.51115</td>\n",
       "      <td>1.516523</td>\n",
       "      <td>1.51768</td>\n",
       "      <td>1.519157</td>\n",
       "      <td>1.53393</td>\n",
       "    </tr>\n",
       "    <tr>\n",
       "      <th>Na</th>\n",
       "      <td>214.0</td>\n",
       "      <td>13.407850</td>\n",
       "      <td>0.816604</td>\n",
       "      <td>10.73000</td>\n",
       "      <td>12.907500</td>\n",
       "      <td>13.30000</td>\n",
       "      <td>13.825000</td>\n",
       "      <td>17.38000</td>\n",
       "    </tr>\n",
       "    <tr>\n",
       "      <th>Mg</th>\n",
       "      <td>214.0</td>\n",
       "      <td>2.684533</td>\n",
       "      <td>1.442408</td>\n",
       "      <td>0.00000</td>\n",
       "      <td>2.115000</td>\n",
       "      <td>3.48000</td>\n",
       "      <td>3.600000</td>\n",
       "      <td>4.49000</td>\n",
       "    </tr>\n",
       "    <tr>\n",
       "      <th>Al</th>\n",
       "      <td>214.0</td>\n",
       "      <td>1.444907</td>\n",
       "      <td>0.499270</td>\n",
       "      <td>0.29000</td>\n",
       "      <td>1.190000</td>\n",
       "      <td>1.36000</td>\n",
       "      <td>1.630000</td>\n",
       "      <td>3.50000</td>\n",
       "    </tr>\n",
       "    <tr>\n",
       "      <th>Si</th>\n",
       "      <td>214.0</td>\n",
       "      <td>72.650935</td>\n",
       "      <td>0.774546</td>\n",
       "      <td>69.81000</td>\n",
       "      <td>72.280000</td>\n",
       "      <td>72.79000</td>\n",
       "      <td>73.087500</td>\n",
       "      <td>75.41000</td>\n",
       "    </tr>\n",
       "    <tr>\n",
       "      <th>K</th>\n",
       "      <td>214.0</td>\n",
       "      <td>0.497056</td>\n",
       "      <td>0.652192</td>\n",
       "      <td>0.00000</td>\n",
       "      <td>0.122500</td>\n",
       "      <td>0.55500</td>\n",
       "      <td>0.610000</td>\n",
       "      <td>6.21000</td>\n",
       "    </tr>\n",
       "    <tr>\n",
       "      <th>Ca</th>\n",
       "      <td>214.0</td>\n",
       "      <td>8.956963</td>\n",
       "      <td>1.423153</td>\n",
       "      <td>5.43000</td>\n",
       "      <td>8.240000</td>\n",
       "      <td>8.60000</td>\n",
       "      <td>9.172500</td>\n",
       "      <td>16.19000</td>\n",
       "    </tr>\n",
       "    <tr>\n",
       "      <th>Ba</th>\n",
       "      <td>214.0</td>\n",
       "      <td>0.175047</td>\n",
       "      <td>0.497219</td>\n",
       "      <td>0.00000</td>\n",
       "      <td>0.000000</td>\n",
       "      <td>0.00000</td>\n",
       "      <td>0.000000</td>\n",
       "      <td>3.15000</td>\n",
       "    </tr>\n",
       "    <tr>\n",
       "      <th>Fe</th>\n",
       "      <td>214.0</td>\n",
       "      <td>0.057009</td>\n",
       "      <td>0.097439</td>\n",
       "      <td>0.00000</td>\n",
       "      <td>0.000000</td>\n",
       "      <td>0.00000</td>\n",
       "      <td>0.100000</td>\n",
       "      <td>0.51000</td>\n",
       "    </tr>\n",
       "  </tbody>\n",
       "</table>\n",
       "</div>"
      ],
      "text/plain": [
       "    count       mean       std       min        25%       50%        75%  \\\n",
       "RI  214.0   1.518365  0.003037   1.51115   1.516523   1.51768   1.519157   \n",
       "Na  214.0  13.407850  0.816604  10.73000  12.907500  13.30000  13.825000   \n",
       "Mg  214.0   2.684533  1.442408   0.00000   2.115000   3.48000   3.600000   \n",
       "Al  214.0   1.444907  0.499270   0.29000   1.190000   1.36000   1.630000   \n",
       "Si  214.0  72.650935  0.774546  69.81000  72.280000  72.79000  73.087500   \n",
       "K   214.0   0.497056  0.652192   0.00000   0.122500   0.55500   0.610000   \n",
       "Ca  214.0   8.956963  1.423153   5.43000   8.240000   8.60000   9.172500   \n",
       "Ba  214.0   0.175047  0.497219   0.00000   0.000000   0.00000   0.000000   \n",
       "Fe  214.0   0.057009  0.097439   0.00000   0.000000   0.00000   0.100000   \n",
       "\n",
       "         max  \n",
       "RI   1.53393  \n",
       "Na  17.38000  \n",
       "Mg   4.49000  \n",
       "Al   3.50000  \n",
       "Si  75.41000  \n",
       "K    6.21000  \n",
       "Ca  16.19000  \n",
       "Ba   3.15000  \n",
       "Fe   0.51000  "
      ]
     },
     "execution_count": 138,
     "metadata": {},
     "output_type": "execute_result"
    }
   ],
   "source": [
    "df.describe().T"
   ]
  },
  {
   "cell_type": "markdown",
   "metadata": {},
   "source": [
    "### Observations\n",
    "1. All the features have 214 rows and no null values.\n",
    "2. Al, K, Ca, Ba seems to have Outliers( needs further analysis ).\n",
    "3. Anomalies and Bad data not observed.\n",
    "\n",
    "## Checking for duplicate data"
   ]
  },
  {
   "cell_type": "code",
   "execution_count": 139,
   "metadata": {},
   "outputs": [
    {
     "name": "stdout",
     "output_type": "stream",
     "text": [
      "Number of duplicate rows are: 1\n"
     ]
    }
   ],
   "source": [
    "dups = df.duplicated()\n",
    "print(f\"Number of duplicate rows are: {dups.sum()}\")"
   ]
  },
  {
   "cell_type": "code",
   "execution_count": 140,
   "metadata": {},
   "outputs": [
    {
     "data": {
      "text/html": [
       "<div>\n",
       "<style scoped>\n",
       "    .dataframe tbody tr th:only-of-type {\n",
       "        vertical-align: middle;\n",
       "    }\n",
       "\n",
       "    .dataframe tbody tr th {\n",
       "        vertical-align: top;\n",
       "    }\n",
       "\n",
       "    .dataframe thead th {\n",
       "        text-align: right;\n",
       "    }\n",
       "</style>\n",
       "<table border=\"1\" class=\"dataframe\">\n",
       "  <thead>\n",
       "    <tr style=\"text-align: right;\">\n",
       "      <th></th>\n",
       "      <th>RI</th>\n",
       "      <th>Na</th>\n",
       "      <th>Mg</th>\n",
       "      <th>Al</th>\n",
       "      <th>Si</th>\n",
       "      <th>K</th>\n",
       "      <th>Ca</th>\n",
       "      <th>Ba</th>\n",
       "      <th>Fe</th>\n",
       "      <th>Type</th>\n",
       "    </tr>\n",
       "  </thead>\n",
       "  <tbody>\n",
       "    <tr>\n",
       "      <th>39</th>\n",
       "      <td>1.52213</td>\n",
       "      <td>14.21</td>\n",
       "      <td>3.82</td>\n",
       "      <td>0.47</td>\n",
       "      <td>71.77</td>\n",
       "      <td>0.11</td>\n",
       "      <td>9.57</td>\n",
       "      <td>0.0</td>\n",
       "      <td>0.0</td>\n",
       "      <td>1</td>\n",
       "    </tr>\n",
       "  </tbody>\n",
       "</table>\n",
       "</div>"
      ],
      "text/plain": [
       "         RI     Na    Mg    Al     Si     K    Ca   Ba   Fe Type\n",
       "39  1.52213  14.21  3.82  0.47  71.77  0.11  9.57  0.0  0.0    1"
      ]
     },
     "execution_count": 140,
     "metadata": {},
     "output_type": "execute_result"
    }
   ],
   "source": [
    "df[dups]"
   ]
  },
  {
   "cell_type": "code",
   "execution_count": 141,
   "metadata": {},
   "outputs": [],
   "source": [
    "df.drop_duplicates(inplace = True)"
   ]
  },
  {
   "cell_type": "code",
   "execution_count": 142,
   "metadata": {},
   "outputs": [
    {
     "name": "stdout",
     "output_type": "stream",
     "text": [
      "Number of duplicate rows are: 0\n"
     ]
    },
    {
     "data": {
      "text/html": [
       "<div>\n",
       "<style scoped>\n",
       "    .dataframe tbody tr th:only-of-type {\n",
       "        vertical-align: middle;\n",
       "    }\n",
       "\n",
       "    .dataframe tbody tr th {\n",
       "        vertical-align: top;\n",
       "    }\n",
       "\n",
       "    .dataframe thead th {\n",
       "        text-align: right;\n",
       "    }\n",
       "</style>\n",
       "<table border=\"1\" class=\"dataframe\">\n",
       "  <thead>\n",
       "    <tr style=\"text-align: right;\">\n",
       "      <th></th>\n",
       "      <th>RI</th>\n",
       "      <th>Na</th>\n",
       "      <th>Mg</th>\n",
       "      <th>Al</th>\n",
       "      <th>Si</th>\n",
       "      <th>K</th>\n",
       "      <th>Ca</th>\n",
       "      <th>Ba</th>\n",
       "      <th>Fe</th>\n",
       "      <th>Type</th>\n",
       "    </tr>\n",
       "  </thead>\n",
       "  <tbody>\n",
       "  </tbody>\n",
       "</table>\n",
       "</div>"
      ],
      "text/plain": [
       "Empty DataFrame\n",
       "Columns: [RI, Na, Mg, Al, Si, K, Ca, Ba, Fe, Type]\n",
       "Index: []"
      ]
     },
     "execution_count": 142,
     "metadata": {},
     "output_type": "execute_result"
    }
   ],
   "source": [
    "dups = df.duplicated()\n",
    "print(f\"Number of duplicate rows are: {dups.sum()}\")\n",
    "df[dups]"
   ]
  },
  {
   "cell_type": "code",
   "execution_count": 143,
   "metadata": {},
   "outputs": [
    {
     "name": "stdout",
     "output_type": "stream",
     "text": [
      "<class 'pandas.core.frame.DataFrame'>\n",
      "Int64Index: 213 entries, 0 to 213\n",
      "Data columns (total 10 columns):\n",
      " #   Column  Non-Null Count  Dtype   \n",
      "---  ------  --------------  -----   \n",
      " 0   RI      213 non-null    float64 \n",
      " 1   Na      213 non-null    float64 \n",
      " 2   Mg      213 non-null    float64 \n",
      " 3   Al      213 non-null    float64 \n",
      " 4   Si      213 non-null    float64 \n",
      " 5   K       213 non-null    float64 \n",
      " 6   Ca      213 non-null    float64 \n",
      " 7   Ba      213 non-null    float64 \n",
      " 8   Fe      213 non-null    float64 \n",
      " 9   Type    213 non-null    category\n",
      "dtypes: category(1), float64(9)\n",
      "memory usage: 17.1 KB\n"
     ]
    }
   ],
   "source": [
    "df.info()"
   ]
  },
  {
   "cell_type": "markdown",
   "metadata": {},
   "source": [
    "# Checking for Outliers"
   ]
  },
  {
   "cell_type": "code",
   "execution_count": 144,
   "metadata": {},
   "outputs": [
    {
     "data": {
      "image/png": "[encoded data removed]",
      "text/plain": [
       "<Figure size 864x576 with 9 Axes>"
      ]
     },
     "metadata": {
      "needs_background": "light"
     },
     "output_type": "display_data"
    }
   ],
   "source": [
    "plt.figure(figsize = (12,8))\n",
    "Features = df.select_dtypes(include=np.number).columns.tolist()\n",
    "for i in range(len(Features)):\n",
    "    plt.subplot(2,5, i + 1)\n",
    "    sns.boxplot(y = df[Features[i]], data = df)\n",
    "    plt.title(f\"Boxplot of {Features[i]}\")\n",
    "    plt.tight_layout()"
   ]
  },
  {
   "cell_type": "markdown",
   "metadata": {},
   "source": [
    "### Observations\n",
    "1. All the features except Mg has \n",
    "2. Medians is also out of place.\n",
    "\n",
    "#### Treating Outliers"
   ]
  },
  {
   "cell_type": "code",
   "execution_count": 145,
   "metadata": {},
   "outputs": [],
   "source": [
    "def remove_outliers(col):\n",
    "    Q1, Q3 = col.quantile([0.25,0.75])\n",
    "    IQR = Q3 - Q1\n",
    "    lower_range = Q1 - (1.5 * IQR)\n",
    "    upper_range = Q3 + (1.5 * IQR)\n",
    "    return lower_range, upper_range"
   ]
  },
  {
   "cell_type": "code",
   "execution_count": 146,
   "metadata": {},
   "outputs": [],
   "source": [
    "Feature_list = df.select_dtypes(include=np.number).columns.tolist()\n",
    "for i in Feature_list:\n",
    "    lr, ur = remove_outliers(df[i])\n",
    "    df[i] = np.where(df[i] > ur, ur,df[i])\n",
    "    df[i] = np.where(df[i] < lr, lr,df[i])"
   ]
  },
  {
   "cell_type": "code",
   "execution_count": 147,
   "metadata": {},
   "outputs": [
    {
     "data": {
      "image/png": "[encoded data removed]",
      "text/plain": [
       "<Figure size 864x576 with 9 Axes>"
      ]
     },
     "metadata": {
      "needs_background": "light"
     },
     "output_type": "display_data"
    }
   ],
   "source": [
    "plt.figure(figsize = (12,8))\n",
    "Features = df.select_dtypes(include=np.number).columns.tolist()\n",
    "for i in range(len(Features)):\n",
    "    plt.subplot(2,5, i + 1)\n",
    "    sns.boxplot(y = df[Features[i]], data = df)\n",
    "    plt.title(f\"Boxplot of {Features[i]}\")\n",
    "    plt.tight_layout()"
   ]
  },
  {
   "cell_type": "markdown",
   "metadata": {},
   "source": [
    "# Treating Missing values"
   ]
  },
  {
   "cell_type": "code",
   "execution_count": 148,
   "metadata": {},
   "outputs": [
    {
     "data": {
      "text/plain": [
       "RI      0\n",
       "Na      0\n",
       "Mg      0\n",
       "Al      0\n",
       "Si      0\n",
       "K       0\n",
       "Ca      0\n",
       "Ba      0\n",
       "Fe      0\n",
       "Type    0\n",
       "dtype: int64"
      ]
     },
     "execution_count": 148,
     "metadata": {},
     "output_type": "execute_result"
    }
   ],
   "source": [
    "df.isnull().sum()"
   ]
  },
  {
   "cell_type": "markdown",
   "metadata": {},
   "source": [
    "Since there is no missing values in df, hence treating it is not required."
   ]
  },
  {
   "cell_type": "markdown",
   "metadata": {},
   "source": [
    "# Scalling of data\n",
    "\n",
    "We need to first find out if our data is normally distributed or not"
   ]
  },
  {
   "cell_type": "code",
   "execution_count": 149,
   "metadata": {},
   "outputs": [
    {
     "data": {
      "image/png": "[encoded data removed]",
      "text/plain": [
       "<Figure size 864x576 with 9 Axes>"
      ]
     },
     "metadata": {
      "needs_background": "light"
     },
     "output_type": "display_data"
    }
   ],
   "source": [
    "Feature_list = df.select_dtypes(include=np.number).columns.tolist()\n",
    "plt.figure(figsize = (12,8))\n",
    "for i in range(0,len(Feature_list)):\n",
    "    plt.subplot(2, 5, i + 1)\n",
    "    sns.histplot(data = df, x = Feature_list[i], kde = True);\n",
    "    plt.title(f\"Histplot of {Feature_list[i]}\")\n",
    "    plt.tight_layout()   "
   ]
  },
  {
   "cell_type": "code",
   "execution_count": 150,
   "metadata": {},
   "outputs": [
    {
     "data": {
      "text/plain": [
       "count    213.0\n",
       "mean       0.0\n",
       "std        0.0\n",
       "min        0.0\n",
       "25%        0.0\n",
       "50%        0.0\n",
       "75%        0.0\n",
       "max        0.0\n",
       "Name: Ba, dtype: float64"
      ]
     },
     "execution_count": 150,
     "metadata": {},
     "output_type": "execute_result"
    }
   ],
   "source": [
    "# Analysing Ba feild\n",
    "df['Ba'].describe()"
   ]
  },
  {
   "cell_type": "code",
   "execution_count": 151,
   "metadata": {},
   "outputs": [
    {
     "data": {
      "text/plain": [
       "array([0.])"
      ]
     },
     "execution_count": 151,
     "metadata": {},
     "output_type": "execute_result"
    }
   ],
   "source": [
    "df['Ba'].unique()"
   ]
  },
  {
   "cell_type": "markdown",
   "metadata": {},
   "source": [
    "We can see that, all values of Ba is 0, hence the feild can be dropped"
   ]
  },
  {
   "cell_type": "code",
   "execution_count": 152,
   "metadata": {},
   "outputs": [],
   "source": [
    "df.drop('Ba', axis = 1, inplace = True)"
   ]
  },
  {
   "cell_type": "markdown",
   "metadata": {},
   "source": [
    "**As most of the feilds are approx normally distributed, hence Scalling with Zscore**"
   ]
  },
  {
   "cell_type": "code",
   "execution_count": 153,
   "metadata": {},
   "outputs": [],
   "source": [
    "# Import StandardScaler\n",
    "from sklearn.preprocessing import StandardScaler\n",
    "\n",
    "# Intilizing object of StandardScaler\n",
    "zscore = StandardScaler()\n",
    "\n",
    "# Fitting the StandardScaler object with the dataset\n",
    "\n",
    "Features = df[df.columns.difference(['Type'])].columns\n",
    "\n",
    "for i in range(0, len(Features)):\n",
    "    df[Features[i]] = zscore.fit_transform(df[Features[i]].values.reshape(-1,1))\n",
    "\n",
    " \n",
    "# Scalling the data sets using the fitted StandardScaler object\n",
    "#df_scaled= pd.DataFrame(zscore.transform(df[df.columns.difference(['Type'])]),columns = df[df.columns.difference(['Type'])].columns)"
   ]
  },
  {
   "cell_type": "code",
   "execution_count": 154,
   "metadata": {},
   "outputs": [
    {
     "name": "stdout",
     "output_type": "stream",
     "text": [
      "<class 'pandas.core.frame.DataFrame'>\n",
      "Int64Index: 213 entries, 0 to 213\n",
      "Data columns (total 9 columns):\n",
      " #   Column  Non-Null Count  Dtype   \n",
      "---  ------  --------------  -----   \n",
      " 0   RI      213 non-null    float64 \n",
      " 1   Na      213 non-null    float64 \n",
      " 2   Mg      213 non-null    float64 \n",
      " 3   Al      213 non-null    float64 \n",
      " 4   Si      213 non-null    float64 \n",
      " 5   K       213 non-null    float64 \n",
      " 6   Ca      213 non-null    float64 \n",
      " 7   Fe      213 non-null    float64 \n",
      " 8   Type    213 non-null    category\n",
      "dtypes: category(1), float64(8)\n",
      "memory usage: 15.4 KB\n"
     ]
    }
   ],
   "source": [
    "df.info()"
   ]
  },
  {
   "cell_type": "code",
   "execution_count": 155,
   "metadata": {},
   "outputs": [
    {
     "data": {
      "text/html": [
       "<div>\n",
       "<style scoped>\n",
       "    .dataframe tbody tr th:only-of-type {\n",
       "        vertical-align: middle;\n",
       "    }\n",
       "\n",
       "    .dataframe tbody tr th {\n",
       "        vertical-align: top;\n",
       "    }\n",
       "\n",
       "    .dataframe thead th {\n",
       "        text-align: right;\n",
       "    }\n",
       "</style>\n",
       "<table border=\"1\" class=\"dataframe\">\n",
       "  <thead>\n",
       "    <tr style=\"text-align: right;\">\n",
       "      <th></th>\n",
       "      <th>count</th>\n",
       "      <th>mean</th>\n",
       "      <th>std</th>\n",
       "      <th>min</th>\n",
       "      <th>25%</th>\n",
       "      <th>50%</th>\n",
       "      <th>75%</th>\n",
       "      <th>max</th>\n",
       "    </tr>\n",
       "  </thead>\n",
       "  <tbody>\n",
       "    <tr>\n",
       "      <th>RI</th>\n",
       "      <td>213.0</td>\n",
       "      <td>-2.343926e-14</td>\n",
       "      <td>1.002356</td>\n",
       "      <td>-2.364565</td>\n",
       "      <td>-0.689912</td>\n",
       "      <td>-0.197492</td>\n",
       "      <td>0.426523</td>\n",
       "      <td>2.101176</td>\n",
       "    </tr>\n",
       "    <tr>\n",
       "      <th>Na</th>\n",
       "      <td>213.0</td>\n",
       "      <td>-7.526582e-16</td>\n",
       "      <td>1.002356</td>\n",
       "      <td>-2.522239</td>\n",
       "      <td>-0.677434</td>\n",
       "      <td>-0.136832</td>\n",
       "      <td>0.552436</td>\n",
       "      <td>2.397240</td>\n",
       "    </tr>\n",
       "    <tr>\n",
       "      <th>Mg</th>\n",
       "      <td>213.0</td>\n",
       "      <td>-3.544374e-17</td>\n",
       "      <td>1.002356</td>\n",
       "      <td>-1.860172</td>\n",
       "      <td>-0.409083</td>\n",
       "      <td>0.555995</td>\n",
       "      <td>0.639311</td>\n",
       "      <td>1.257238</td>\n",
       "    </tr>\n",
       "    <tr>\n",
       "      <th>Al</th>\n",
       "      <td>213.0</td>\n",
       "      <td>5.712697e-16</td>\n",
       "      <td>1.002356</td>\n",
       "      <td>-2.131375</td>\n",
       "      <td>-0.559594</td>\n",
       "      <td>-0.154741</td>\n",
       "      <td>0.488261</td>\n",
       "      <td>2.060042</td>\n",
       "    </tr>\n",
       "    <tr>\n",
       "      <th>Si</th>\n",
       "      <td>213.0</td>\n",
       "      <td>1.956703e-15</td>\n",
       "      <td>1.002356</td>\n",
       "      <td>-2.450678</td>\n",
       "      <td>-0.599121</td>\n",
       "      <td>0.178076</td>\n",
       "      <td>0.635251</td>\n",
       "      <td>2.486808</td>\n",
       "    </tr>\n",
       "    <tr>\n",
       "      <th>K</th>\n",
       "      <td>213.0</td>\n",
       "      <td>3.023143e-16</td>\n",
       "      <td>1.002356</td>\n",
       "      <td>-1.450441</td>\n",
       "      <td>-1.023814</td>\n",
       "      <td>0.387339</td>\n",
       "      <td>0.551426</td>\n",
       "      <td>2.914287</td>\n",
       "    </tr>\n",
       "    <tr>\n",
       "      <th>Ca</th>\n",
       "      <td>213.0</td>\n",
       "      <td>-6.994926e-16</td>\n",
       "      <td>1.002356</td>\n",
       "      <td>-2.227803</td>\n",
       "      <td>-0.638300</td>\n",
       "      <td>-0.219090</td>\n",
       "      <td>0.421369</td>\n",
       "      <td>2.010872</td>\n",
       "    </tr>\n",
       "    <tr>\n",
       "      <th>Fe</th>\n",
       "      <td>213.0</td>\n",
       "      <td>-1.793036e-16</td>\n",
       "      <td>1.002356</td>\n",
       "      <td>-0.621102</td>\n",
       "      <td>-0.621102</td>\n",
       "      <td>-0.621102</td>\n",
       "      <td>0.548612</td>\n",
       "      <td>2.303183</td>\n",
       "    </tr>\n",
       "  </tbody>\n",
       "</table>\n",
       "</div>"
      ],
      "text/plain": [
       "    count          mean       std       min       25%       50%       75%  \\\n",
       "RI  213.0 -2.343926e-14  1.002356 -2.364565 -0.689912 -0.197492  0.426523   \n",
       "Na  213.0 -7.526582e-16  1.002356 -2.522239 -0.677434 -0.136832  0.552436   \n",
       "Mg  213.0 -3.544374e-17  1.002356 -1.860172 -0.409083  0.555995  0.639311   \n",
       "Al  213.0  5.712697e-16  1.002356 -2.131375 -0.559594 -0.154741  0.488261   \n",
       "Si  213.0  1.956703e-15  1.002356 -2.450678 -0.599121  0.178076  0.635251   \n",
       "K   213.0  3.023143e-16  1.002356 -1.450441 -1.023814  0.387339  0.551426   \n",
       "Ca  213.0 -6.994926e-16  1.002356 -2.227803 -0.638300 -0.219090  0.421369   \n",
       "Fe  213.0 -1.793036e-16  1.002356 -0.621102 -0.621102 -0.621102  0.548612   \n",
       "\n",
       "         max  \n",
       "RI  2.101176  \n",
       "Na  2.397240  \n",
       "Mg  1.257238  \n",
       "Al  2.060042  \n",
       "Si  2.486808  \n",
       "K   2.914287  \n",
       "Ca  2.010872  \n",
       "Fe  2.303183  "
      ]
     },
     "execution_count": 155,
     "metadata": {},
     "output_type": "execute_result"
    }
   ],
   "source": [
    "df.describe().T"
   ]
  },
  {
   "cell_type": "code",
   "execution_count": 110,
   "metadata": {},
   "outputs": [
    {
     "data": {
      "image/png": "[encoded data removed]",
      "text/plain": [
       "<Figure size 864x576 with 8 Axes>"
      ]
     },
     "metadata": {
      "needs_background": "light"
     },
     "output_type": "display_data"
    }
   ],
   "source": [
    "Feature_list = df.select_dtypes(include=np.number).columns.tolist()\n",
    "plt.figure(figsize = (12,8))\n",
    "for i in range(0,len(Feature_list)):\n",
    "    plt.subplot(2, 5, i + 1)\n",
    "    sns.histplot(data = df, x = Feature_list[i], kde = True);\n",
    "    plt.title(f\"Histplot of {Feature_list[i]}\")\n",
    "    plt.tight_layout()"
   ]
  },
  {
   "cell_type": "markdown",
   "metadata": {},
   "source": [
    "# Transformation\n",
    "\n",
    "**Skewness to be checked before that**"
   ]
  },
  {
   "cell_type": "markdown",
   "metadata": {},
   "source": [
    "df.skew(axis = 0, skipna = True)"
   ]
  },
  {
   "cell_type": "markdown",
   "metadata": {},
   "source": [
    "Pos_Skew = ['RI','Na','Al','K','Ca','Fe']\n",
    "Neg_Skew = ['Mg', 'Si']\n",
    "\n",
    "for i in df.columns:\n",
    "    if i in Pos_Skew:\n",
    "        df[i] = np.cbrt(df[i])\n",
    "    elif i in Neg_Skew:\n",
    "        df[i] = np.power(df[i],3)\n",
    "        \n",
    "df.describe().T"
   ]
  },
  {
   "cell_type": "markdown",
   "metadata": {},
   "source": [
    "Feature_list = df.select_dtypes(include=np.number).columns.tolist()\n",
    "plt.figure(figsize = (12,8))\n",
    "for i in range(0,len(Feature_list)):\n",
    "    plt.subplot(2, 5, i + 1)\n",
    "    sns.histplot(data = df, x = Feature_list[i], kde = True);\n",
    "    plt.title(f\"Histplot of {Feature_list[i]}\")\n",
    "    plt.tight_layout()"
   ]
  },
  {
   "cell_type": "markdown",
   "metadata": {},
   "source": [
    "# PCA\n",
    "### Step 1: Find Correlation between different features"
   ]
  },
  {
   "cell_type": "code",
   "execution_count": 163,
   "metadata": {},
   "outputs": [
    {
     "data": {
      "image/png": "[encoded data removed]",
      "text/plain": [
       "<Figure size 720x360 with 2 Axes>"
      ]
     },
     "metadata": {
      "needs_background": "light"
     },
     "output_type": "display_data"
    }
   ],
   "source": [
    "plt.figure(figsize = (10, 5));\n",
    "# Get Correlations\n",
    "df_corr = df.corr()\n",
    "\n",
    "# Plot Heatmap\n",
    "sns.heatmap(data = df_corr, annot = True, fmt='.2g', cmap='Blues');\n"
   ]
  },
  {
   "cell_type": "markdown",
   "metadata": {},
   "source": [
    "We can see correlations among features\n",
    "### Step 1: Find the significance of correlation"
   ]
  },
  {
   "cell_type": "code",
   "execution_count": 175,
   "metadata": {},
   "outputs": [
    {
     "name": "stdout",
     "output_type": "stream",
     "text": [
      "Correlations are significant\n"
     ]
    }
   ],
   "source": [
    "# H0 : Correlations are not significant\n",
    "# H1 : There are significant correlations\n",
    "from factor_analyzer.factor_analyzer import calculate_bartlett_sphericity\n",
    "chi_square_value,p_value=calculate_bartlett_sphericity(df.select_dtypes(include=np.number))\n",
    "if p_value < 0.05:\n",
    "    print(f\"Correlations are significant )"
   ]
  },
  {
   "cell_type": "markdown",
   "metadata": {},
   "source": [
    "### Step 2: Find if we have adequate sample"
   ]
  },
  {
   "cell_type": "code",
   "execution_count": 177,
   "metadata": {},
   "outputs": [
    {
     "data": {
      "text/plain": [
       "0.47357661194601225"
      ]
     },
     "execution_count": 177,
     "metadata": {},
     "output_type": "execute_result"
    }
   ],
   "source": [
    "# Above 0.7 is good, below 0.5 is not acceptable\n",
    "from factor_analyzer.factor_analyzer import calculate_kmo\n",
    "kmo_all, kmo_model = calculate_kmo(df.select_dtypes(include=np.number))\n",
    "kmo_model"
   ]
  },
  {
   "cell_type": "markdown",
   "metadata": {},
   "source": [
    "### Step 3: Calculate PCA"
   ]
  },
  {
   "cell_type": "code",
   "execution_count": 181,
   "metadata": {},
   "outputs": [],
   "source": [
    "from sklearn.decomposition import PCA\n",
    "pca = PCA(n_components = 9, random_state = 123)\n",
    "pca_transformed = pca.fit_transform(df)"
   ]
  },
  {
   "cell_type": "code",
   "execution_count": 182,
   "metadata": {},
   "outputs": [
    {
     "data": {
      "text/plain": [
       "array([[-0.08561722,  0.23991178, -0.32448524,  0.26762204,  0.08784888,\n",
       "        -0.1260789 ,  0.01609592, -0.10908566,  0.84995749],\n",
       "       [-0.56783962, -0.0971259 ,  0.15962933,  0.27788329,  0.27331676,\n",
       "         0.41736169, -0.55962735, -0.05462603, -0.0190913 ],\n",
       "       [ 0.02617622, -0.59725032, -0.30504165,  0.11092434,  0.39988897,\n",
       "         0.1695672 ,  0.31656129,  0.49460934,  0.06114388],\n",
       "       [ 0.19937128, -0.04281835,  0.04336578,  0.32004692, -0.71034919,\n",
       "         0.47553236, -0.05171939,  0.32053335,  0.13402815],\n",
       "       [ 0.19310137, -0.40626098, -0.10512231,  0.03944624, -0.03661961,\n",
       "         0.35371655,  0.1860007 , -0.78924962,  0.03300847],\n",
       "       [ 0.1550942 , -0.09918071,  0.36088935, -0.70652687,  0.09675636,\n",
       "         0.29106742, -0.15046222,  0.11513263,  0.45465503],\n",
       "       [-0.10575376,  0.33993017, -0.72484538, -0.39169707, -0.03274312,\n",
       "         0.38590451, -0.07686367,  0.02432489, -0.19478727],\n",
       "       [-0.54824574, -0.46245946, -0.16860428, -0.2844604 , -0.49049068,\n",
       "        -0.350036  , -0.05369357, -0.03058914,  0.0963728 ],\n",
       "       [ 0.50664993, -0.2648801 , -0.28138366,  0.03666814,  0.02678361,\n",
       "        -0.27156239, -0.71947623,  0.00619814, -0.02179717]])"
      ]
     },
     "execution_count": 182,
     "metadata": {},
     "output_type": "execute_result"
    }
   ],
   "source": [
    "# Extract Eigen vectors\n",
    "pca.components_"
   ]
  },
  {
   "cell_type": "code",
   "execution_count": 183,
   "metadata": {},
   "outputs": [
    {
     "data": {
      "text/plain": [
       "array([5.96290172, 2.48693856, 1.20730342, 1.07167661, 0.82669066,\n",
       "       0.4262962 , 0.23082211, 0.13992619, 0.11675094])"
      ]
     },
     "execution_count": 183,
     "metadata": {},
     "output_type": "execute_result"
    }
   ],
   "source": [
    "# Extract Eigen values\n",
    "pca.explained_variance_"
   ]
  },
  {
   "cell_type": "code",
   "execution_count": 184,
   "metadata": {},
   "outputs": [
    {
     "data": {
      "text/plain": [
       "array([0.47820637, 0.19944482, 0.09682202, 0.08594517, 0.06629805,\n",
       "       0.03418764, 0.01851122, 0.01122165, 0.00936307])"
      ]
     },
     "execution_count": 184,
     "metadata": {},
     "output_type": "execute_result"
    }
   ],
   "source": [
    "pca.explained_variance_ratio_"
   ]
  },
  {
   "cell_type": "code",
   "execution_count": 185,
   "metadata": {},
   "outputs": [
    {
     "data": {
      "text/html": [
       "<div>\n",
       "<style scoped>\n",
       "    .dataframe tbody tr th:only-of-type {\n",
       "        vertical-align: middle;\n",
       "    }\n",
       "\n",
       "    .dataframe tbody tr th {\n",
       "        vertical-align: top;\n",
       "    }\n",
       "\n",
       "    .dataframe thead th {\n",
       "        text-align: right;\n",
       "    }\n",
       "</style>\n",
       "<table border=\"1\" class=\"dataframe\">\n",
       "  <thead>\n",
       "    <tr style=\"text-align: right;\">\n",
       "      <th></th>\n",
       "      <th>PC1</th>\n",
       "      <th>PC2</th>\n",
       "      <th>PC3</th>\n",
       "      <th>PC4</th>\n",
       "      <th>PC5</th>\n",
       "      <th>PC6</th>\n",
       "      <th>PC7</th>\n",
       "      <th>PC8</th>\n",
       "      <th>PC9</th>\n",
       "    </tr>\n",
       "  </thead>\n",
       "  <tbody>\n",
       "    <tr>\n",
       "      <th>RI</th>\n",
       "      <td>-0.085617</td>\n",
       "      <td>-0.567840</td>\n",
       "      <td>0.026176</td>\n",
       "      <td>0.199371</td>\n",
       "      <td>0.193101</td>\n",
       "      <td>0.155094</td>\n",
       "      <td>-0.105754</td>\n",
       "      <td>-0.548246</td>\n",
       "      <td>0.506650</td>\n",
       "    </tr>\n",
       "    <tr>\n",
       "      <th>Na</th>\n",
       "      <td>0.239912</td>\n",
       "      <td>-0.097126</td>\n",
       "      <td>-0.597250</td>\n",
       "      <td>-0.042818</td>\n",
       "      <td>-0.406261</td>\n",
       "      <td>-0.099181</td>\n",
       "      <td>0.339930</td>\n",
       "      <td>-0.462459</td>\n",
       "      <td>-0.264880</td>\n",
       "    </tr>\n",
       "    <tr>\n",
       "      <th>Mg</th>\n",
       "      <td>-0.324485</td>\n",
       "      <td>0.159629</td>\n",
       "      <td>-0.305042</td>\n",
       "      <td>0.043366</td>\n",
       "      <td>-0.105122</td>\n",
       "      <td>0.360889</td>\n",
       "      <td>-0.724845</td>\n",
       "      <td>-0.168604</td>\n",
       "      <td>-0.281384</td>\n",
       "    </tr>\n",
       "    <tr>\n",
       "      <th>Al</th>\n",
       "      <td>0.267622</td>\n",
       "      <td>0.277883</td>\n",
       "      <td>0.110924</td>\n",
       "      <td>0.320047</td>\n",
       "      <td>0.039446</td>\n",
       "      <td>-0.706527</td>\n",
       "      <td>-0.391697</td>\n",
       "      <td>-0.284460</td>\n",
       "      <td>0.036668</td>\n",
       "    </tr>\n",
       "    <tr>\n",
       "      <th>Si</th>\n",
       "      <td>0.087849</td>\n",
       "      <td>0.273317</td>\n",
       "      <td>0.399889</td>\n",
       "      <td>-0.710349</td>\n",
       "      <td>-0.036620</td>\n",
       "      <td>0.096756</td>\n",
       "      <td>-0.032743</td>\n",
       "      <td>-0.490491</td>\n",
       "      <td>0.026784</td>\n",
       "    </tr>\n",
       "    <tr>\n",
       "      <th>K</th>\n",
       "      <td>-0.126079</td>\n",
       "      <td>0.417362</td>\n",
       "      <td>0.169567</td>\n",
       "      <td>0.475532</td>\n",
       "      <td>0.353717</td>\n",
       "      <td>0.291067</td>\n",
       "      <td>0.385905</td>\n",
       "      <td>-0.350036</td>\n",
       "      <td>-0.271562</td>\n",
       "    </tr>\n",
       "    <tr>\n",
       "      <th>Ca</th>\n",
       "      <td>0.016096</td>\n",
       "      <td>-0.559627</td>\n",
       "      <td>0.316561</td>\n",
       "      <td>-0.051719</td>\n",
       "      <td>0.186001</td>\n",
       "      <td>-0.150462</td>\n",
       "      <td>-0.076864</td>\n",
       "      <td>-0.053694</td>\n",
       "      <td>-0.719476</td>\n",
       "    </tr>\n",
       "    <tr>\n",
       "      <th>Fe</th>\n",
       "      <td>-0.109086</td>\n",
       "      <td>-0.054626</td>\n",
       "      <td>0.494609</td>\n",
       "      <td>0.320533</td>\n",
       "      <td>-0.789250</td>\n",
       "      <td>0.115133</td>\n",
       "      <td>0.024325</td>\n",
       "      <td>-0.030589</td>\n",
       "      <td>0.006198</td>\n",
       "    </tr>\n",
       "    <tr>\n",
       "      <th>Type</th>\n",
       "      <td>0.849957</td>\n",
       "      <td>-0.019091</td>\n",
       "      <td>0.061144</td>\n",
       "      <td>0.134028</td>\n",
       "      <td>0.033008</td>\n",
       "      <td>0.454655</td>\n",
       "      <td>-0.194787</td>\n",
       "      <td>0.096373</td>\n",
       "      <td>-0.021797</td>\n",
       "    </tr>\n",
       "  </tbody>\n",
       "</table>\n",
       "</div>"
      ],
      "text/plain": [
       "           PC1       PC2       PC3       PC4       PC5       PC6       PC7  \\\n",
       "RI   -0.085617 -0.567840  0.026176  0.199371  0.193101  0.155094 -0.105754   \n",
       "Na    0.239912 -0.097126 -0.597250 -0.042818 -0.406261 -0.099181  0.339930   \n",
       "Mg   -0.324485  0.159629 -0.305042  0.043366 -0.105122  0.360889 -0.724845   \n",
       "Al    0.267622  0.277883  0.110924  0.320047  0.039446 -0.706527 -0.391697   \n",
       "Si    0.087849  0.273317  0.399889 -0.710349 -0.036620  0.096756 -0.032743   \n",
       "K    -0.126079  0.417362  0.169567  0.475532  0.353717  0.291067  0.385905   \n",
       "Ca    0.016096 -0.559627  0.316561 -0.051719  0.186001 -0.150462 -0.076864   \n",
       "Fe   -0.109086 -0.054626  0.494609  0.320533 -0.789250  0.115133  0.024325   \n",
       "Type  0.849957 -0.019091  0.061144  0.134028  0.033008  0.454655 -0.194787   \n",
       "\n",
       "           PC8       PC9  \n",
       "RI   -0.548246  0.506650  \n",
       "Na   -0.462459 -0.264880  \n",
       "Mg   -0.168604 -0.281384  \n",
       "Al   -0.284460  0.036668  \n",
       "Si   -0.490491  0.026784  \n",
       "K    -0.350036 -0.271562  \n",
       "Ca   -0.053694 -0.719476  \n",
       "Fe   -0.030589  0.006198  \n",
       "Type  0.096373 -0.021797  "
      ]
     },
     "execution_count": 185,
     "metadata": {},
     "output_type": "execute_result"
    }
   ],
   "source": [
    "df_extracted_loadings = pd.DataFrame(pca.components_.T, \n",
    "                                    columns = ['PC1', 'PC2', 'PC3', 'PC4', 'PC5','PC6', 'PC7', 'PC8', 'PC9'],\n",
    "                                    index = df.columns)\n",
    "df_extracted_loadings"
   ]
  },
  {
   "cell_type": "code",
   "execution_count": 186,
   "metadata": {},
   "outputs": [
    {
     "data": {
      "text/plain": [
       "array([0.47820637, 0.67765119, 0.7744732 , 0.86041837, 0.92671642,\n",
       "       0.96090406, 0.97941528, 0.99063693, 1.        ])"
      ]
     },
     "execution_count": 186,
     "metadata": {},
     "output_type": "execute_result"
    }
   ],
   "source": [
    "np.cumsum(pca.explained_variance_ratio_)"
   ]
  },
  {
   "cell_type": "code",
   "execution_count": 187,
   "metadata": {},
   "outputs": [
    {
     "data": {
      "text/html": [
       "<div>\n",
       "<style scoped>\n",
       "    .dataframe tbody tr th:only-of-type {\n",
       "        vertical-align: middle;\n",
       "    }\n",
       "\n",
       "    .dataframe tbody tr th {\n",
       "        vertical-align: top;\n",
       "    }\n",
       "\n",
       "    .dataframe thead th {\n",
       "        text-align: right;\n",
       "    }\n",
       "</style>\n",
       "<table border=\"1\" class=\"dataframe\">\n",
       "  <thead>\n",
       "    <tr style=\"text-align: right;\">\n",
       "      <th></th>\n",
       "      <th>PC1</th>\n",
       "      <th>PC2</th>\n",
       "      <th>PC3</th>\n",
       "      <th>PC4</th>\n",
       "      <th>PC5</th>\n",
       "    </tr>\n",
       "  </thead>\n",
       "  <tbody>\n",
       "    <tr>\n",
       "      <th>RI</th>\n",
       "      <td>-0.085617</td>\n",
       "      <td>-0.567840</td>\n",
       "      <td>0.026176</td>\n",
       "      <td>0.199371</td>\n",
       "      <td>0.193101</td>\n",
       "    </tr>\n",
       "    <tr>\n",
       "      <th>Na</th>\n",
       "      <td>0.239912</td>\n",
       "      <td>-0.097126</td>\n",
       "      <td>-0.597250</td>\n",
       "      <td>-0.042818</td>\n",
       "      <td>-0.406261</td>\n",
       "    </tr>\n",
       "    <tr>\n",
       "      <th>Mg</th>\n",
       "      <td>-0.324485</td>\n",
       "      <td>0.159629</td>\n",
       "      <td>-0.305042</td>\n",
       "      <td>0.043366</td>\n",
       "      <td>-0.105122</td>\n",
       "    </tr>\n",
       "    <tr>\n",
       "      <th>Al</th>\n",
       "      <td>0.267622</td>\n",
       "      <td>0.277883</td>\n",
       "      <td>0.110924</td>\n",
       "      <td>0.320047</td>\n",
       "      <td>0.039446</td>\n",
       "    </tr>\n",
       "    <tr>\n",
       "      <th>Si</th>\n",
       "      <td>0.087849</td>\n",
       "      <td>0.273317</td>\n",
       "      <td>0.399889</td>\n",
       "      <td>-0.710349</td>\n",
       "      <td>-0.036620</td>\n",
       "    </tr>\n",
       "    <tr>\n",
       "      <th>K</th>\n",
       "      <td>-0.126079</td>\n",
       "      <td>0.417362</td>\n",
       "      <td>0.169567</td>\n",
       "      <td>0.475532</td>\n",
       "      <td>0.353717</td>\n",
       "    </tr>\n",
       "    <tr>\n",
       "      <th>Ca</th>\n",
       "      <td>0.016096</td>\n",
       "      <td>-0.559627</td>\n",
       "      <td>0.316561</td>\n",
       "      <td>-0.051719</td>\n",
       "      <td>0.186001</td>\n",
       "    </tr>\n",
       "    <tr>\n",
       "      <th>Fe</th>\n",
       "      <td>-0.109086</td>\n",
       "      <td>-0.054626</td>\n",
       "      <td>0.494609</td>\n",
       "      <td>0.320533</td>\n",
       "      <td>-0.789250</td>\n",
       "    </tr>\n",
       "    <tr>\n",
       "      <th>Type</th>\n",
       "      <td>0.849957</td>\n",
       "      <td>-0.019091</td>\n",
       "      <td>0.061144</td>\n",
       "      <td>0.134028</td>\n",
       "      <td>0.033008</td>\n",
       "    </tr>\n",
       "  </tbody>\n",
       "</table>\n",
       "</div>"
      ],
      "text/plain": [
       "           PC1       PC2       PC3       PC4       PC5\n",
       "RI   -0.085617 -0.567840  0.026176  0.199371  0.193101\n",
       "Na    0.239912 -0.097126 -0.597250 -0.042818 -0.406261\n",
       "Mg   -0.324485  0.159629 -0.305042  0.043366 -0.105122\n",
       "Al    0.267622  0.277883  0.110924  0.320047  0.039446\n",
       "Si    0.087849  0.273317  0.399889 -0.710349 -0.036620\n",
       "K    -0.126079  0.417362  0.169567  0.475532  0.353717\n",
       "Ca    0.016096 -0.559627  0.316561 -0.051719  0.186001\n",
       "Fe   -0.109086 -0.054626  0.494609  0.320533 -0.789250\n",
       "Type  0.849957 -0.019091  0.061144  0.134028  0.033008"
      ]
     },
     "execution_count": 187,
     "metadata": {},
     "output_type": "execute_result"
    }
   ],
   "source": [
    "df_selected = df_extracted_loadings[['PC1', 'PC2', 'PC3', 'PC4', 'PC5']]\n",
    "df_selected"
   ]
  },
  {
   "cell_type": "code",
   "execution_count": 205,
   "metadata": {},
   "outputs": [],
   "source": [
    "#Extract the required(as per the cumulative explained variance) number of PCs\n",
    "pca = PCA(n_components=5, random_state=123)\n",
    "pca_final = pca.fit_transform(df)"
   ]
  },
  {
   "cell_type": "code",
   "execution_count": 206,
   "metadata": {},
   "outputs": [
    {
     "data": {
      "text/html": [
       "<div>\n",
       "<style scoped>\n",
       "    .dataframe tbody tr th:only-of-type {\n",
       "        vertical-align: middle;\n",
       "    }\n",
       "\n",
       "    .dataframe tbody tr th {\n",
       "        vertical-align: top;\n",
       "    }\n",
       "\n",
       "    .dataframe thead th {\n",
       "        text-align: right;\n",
       "    }\n",
       "</style>\n",
       "<table border=\"1\" class=\"dataframe\">\n",
       "  <thead>\n",
       "    <tr style=\"text-align: right;\">\n",
       "      <th></th>\n",
       "      <th>PC1</th>\n",
       "      <th>PC2</th>\n",
       "      <th>PC3</th>\n",
       "      <th>PC4</th>\n",
       "      <th>PC5</th>\n",
       "    </tr>\n",
       "  </thead>\n",
       "  <tbody>\n",
       "    <tr>\n",
       "      <th>0</th>\n",
       "      <td>-2.056612</td>\n",
       "      <td>-1.538503</td>\n",
       "      <td>-1.817718</td>\n",
       "      <td>-0.030318</td>\n",
       "      <td>-0.029611</td>\n",
       "    </tr>\n",
       "    <tr>\n",
       "      <th>1</th>\n",
       "      <td>-1.549606</td>\n",
       "      <td>0.892152</td>\n",
       "      <td>-1.326607</td>\n",
       "      <td>-0.478702</td>\n",
       "      <td>-0.120937</td>\n",
       "    </tr>\n",
       "    <tr>\n",
       "      <th>2</th>\n",
       "      <td>-1.417267</td>\n",
       "      <td>1.415290</td>\n",
       "      <td>-0.903842</td>\n",
       "      <td>-0.862100</td>\n",
       "      <td>-0.149747</td>\n",
       "    </tr>\n",
       "    <tr>\n",
       "      <th>3</th>\n",
       "      <td>-1.882791</td>\n",
       "      <td>0.752149</td>\n",
       "      <td>-0.693998</td>\n",
       "      <td>-0.238897</td>\n",
       "      <td>0.439020</td>\n",
       "    </tr>\n",
       "    <tr>\n",
       "      <th>4</th>\n",
       "      <td>-1.802326</td>\n",
       "      <td>1.027395</td>\n",
       "      <td>-0.523486</td>\n",
       "      <td>-0.833856</td>\n",
       "      <td>0.304882</td>\n",
       "    </tr>\n",
       "    <tr>\n",
       "      <th>5</th>\n",
       "      <td>-2.031420</td>\n",
       "      <td>1.610412</td>\n",
       "      <td>1.379669</td>\n",
       "      <td>0.556546</td>\n",
       "      <td>-1.712198</td>\n",
       "    </tr>\n",
       "    <tr>\n",
       "      <th>6</th>\n",
       "      <td>-1.861390</td>\n",
       "      <td>0.932741</td>\n",
       "      <td>-0.510120</td>\n",
       "      <td>-0.881597</td>\n",
       "      <td>0.337221</td>\n",
       "    </tr>\n",
       "    <tr>\n",
       "      <th>7</th>\n",
       "      <td>-1.948833</td>\n",
       "      <td>0.865806</td>\n",
       "      <td>-0.301842</td>\n",
       "      <td>-1.112409</td>\n",
       "      <td>0.416235</td>\n",
       "    </tr>\n",
       "    <tr>\n",
       "      <th>8</th>\n",
       "      <td>-1.658461</td>\n",
       "      <td>0.030975</td>\n",
       "      <td>-1.601698</td>\n",
       "      <td>0.452685</td>\n",
       "      <td>0.158734</td>\n",
       "    </tr>\n",
       "    <tr>\n",
       "      <th>9</th>\n",
       "      <td>-1.968107</td>\n",
       "      <td>0.813267</td>\n",
       "      <td>0.446172</td>\n",
       "      <td>-0.195180</td>\n",
       "      <td>-0.439284</td>\n",
       "    </tr>\n",
       "  </tbody>\n",
       "</table>\n",
       "</div>"
      ],
      "text/plain": [
       "        PC1       PC2       PC3       PC4       PC5\n",
       "0 -2.056612 -1.538503 -1.817718 -0.030318 -0.029611\n",
       "1 -1.549606  0.892152 -1.326607 -0.478702 -0.120937\n",
       "2 -1.417267  1.415290 -0.903842 -0.862100 -0.149747\n",
       "3 -1.882791  0.752149 -0.693998 -0.238897  0.439020\n",
       "4 -1.802326  1.027395 -0.523486 -0.833856  0.304882\n",
       "5 -2.031420  1.610412  1.379669  0.556546 -1.712198\n",
       "6 -1.861390  0.932741 -0.510120 -0.881597  0.337221\n",
       "7 -1.948833  0.865806 -0.301842 -1.112409  0.416235\n",
       "8 -1.658461  0.030975 -1.601698  0.452685  0.158734\n",
       "9 -1.968107  0.813267  0.446172 -0.195180 -0.439284"
      ]
     },
     "execution_count": 206,
     "metadata": {},
     "output_type": "execute_result"
    }
   ],
   "source": [
    "pca_final_df = pd.DataFrame(pca_final, columns = df_selected.columns)\n",
    "pca_final_df.head(10)"
   ]
  },
  {
   "cell_type": "code",
   "execution_count": 207,
   "metadata": {},
   "outputs": [
    {
     "data": {
      "image/png": "[encoded data removed]",
      "text/plain": [
       "<Figure size 720x360 with 2 Axes>"
      ]
     },
     "metadata": {
      "needs_background": "light"
     },
     "output_type": "display_data"
    }
   ],
   "source": [
    "plt.figure(figsize = (10, 5));\n",
    "# Get Correlations\n",
    "df_corr = pca_final_df.corr()\n",
    "\n",
    "# Plot Heatmap\n",
    "sns.heatmap(data = df_corr, annot = True, fmt='.2g', cmap='Blues');\n",
    "\n"
   ]
  },
  {
   "cell_type": "code",
   "execution_count": null,
   "metadata": {},
   "outputs": [],
   "source": []
  }
 ],
 "metadata": {
  "kernelspec": {
   "display_name": "Python 3",
   "language": "python",
   "name": "python3"
  },
  "language_info": {
   "codemirror_mode": {
    "name": "ipython",
    "version": 3
   },
   "file_extension": ".py",
   "mimetype": "text/x-python",
   "name": "python",
   "nbconvert_exporter": "python",
   "pygments_lexer": "ipython3",
   "version": "3.7.6"
  }
 },
 "nbformat": 4,
 "nbformat_minor": 4
}
